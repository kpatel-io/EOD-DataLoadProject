{
 "cells": [
  {
   "cell_type": "code",
   "execution_count": 1,
   "id": "c9b173fb-ce9a-41b5-9423-f296245dc927",
   "metadata": {},
   "outputs": [
    {
     "ename": "NameError",
     "evalue": "name 'spark' is not defined",
     "output_type": "error",
     "traceback": [
      "\u001b[0;31m---------------------------------------------------------------------------\u001b[0m",
      "\u001b[0;31mNameError\u001b[0m                                 Traceback (most recent call last)",
      "Input \u001b[0;32mIn [1]\u001b[0m, in \u001b[0;36m<cell line: 2>\u001b[0;34m()\u001b[0m\n\u001b[1;32m      1\u001b[0m \u001b[38;5;66;03m# Reading Trade partition dataset from its temporary location\u001b[39;00m\n\u001b[0;32m----> 2\u001b[0m trade_common \u001b[38;5;241m=\u001b[39m \u001b[43mspark\u001b[49m\u001b[38;5;241m.\u001b[39mread\u001b[38;5;241m.\u001b[39mparquet(\u001b[38;5;124m\"\u001b[39m\u001b[38;5;124m/EOD-DataLoadProject/output_dir/partition=T/*.parquet\u001b[39m\u001b[38;5;124m\"\u001b[39m)\n",
      "\u001b[0;31mNameError\u001b[0m: name 'spark' is not defined"
     ]
    }
   ],
   "source": [
    "# Reading Trade partition dataset from the temporary location\n",
    "trade_common = spark.read.parquet(\"C:/Users/KEVAL/Desktop/EOD-DataLoadProject/output_dir/partition=T/*.parquet\")"
   ]
  },
  {
   "cell_type": "code",
   "execution_count": 8,
   "id": "5c517f0b-2091-453e-9400-71c666d8d96e",
   "metadata": {},
   "outputs": [
    {
     "ename": "NameError",
     "evalue": "name 'trade_common' is not defined",
     "output_type": "error",
     "traceback": [
      "\u001b[0;31m---------------------------------------------------------------------------\u001b[0m",
      "\u001b[0;31mNameError\u001b[0m                                 Traceback (most recent call last)",
      "Input \u001b[0;32mIn [8]\u001b[0m, in \u001b[0;36m<cell line: 2>\u001b[0;34m()\u001b[0m\n\u001b[1;32m      1\u001b[0m \u001b[38;5;66;03m# Selecting the Necessary columns for Trade Records\u001b[39;00m\n\u001b[0;32m----> 2\u001b[0m trade \u001b[38;5;241m=\u001b[39m \u001b[43mtrade_common\u001b[49m\u001b[38;5;241m.\u001b[39mselect(\u001b[38;5;124m\"\u001b[39m\u001b[38;5;124mtrade_dt\u001b[39m\u001b[38;5;124m\"\u001b[39m, \u001b[38;5;124m\"\u001b[39m\u001b[38;5;124msymbol\u001b[39m\u001b[38;5;124m\"\u001b[39m, \u001b[38;5;124m\"\u001b[39m\u001b[38;5;124mexchange\u001b[39m\u001b[38;5;124m\"\u001b[39m, \u001b[38;5;124m\"\u001b[39m\u001b[38;5;124mevent_tm\u001b[39m\u001b[38;5;124m\"\u001b[39m,\u001b[38;5;124m\"\u001b[39m\u001b[38;5;124mevent_seq_nb\u001b[39m\u001b[38;5;124m\"\u001b[39m, \u001b[38;5;124m\"\u001b[39m\u001b[38;5;124marrival_tm\u001b[39m\u001b[38;5;124m\"\u001b[39m, \u001b[38;5;124m\"\u001b[39m\u001b[38;5;124mtrade_pr\u001b[39m\u001b[38;5;124m\"\u001b[39m)\n",
      "\u001b[0;31mNameError\u001b[0m: name 'trade_common' is not defined"
     ]
    }
   ],
   "source": [
    "# Selecting the columns for Trade Records\n",
    "trade = trade_common.select(\"trade_dt\", \"symbol\", \"exchange\", \"event_tm\",\"event_seq_nb\", \"arrival_tm\", \"trade_pr\")"
   ]
  },
  {
   "cell_type": "code",
   "execution_count": 3,
   "id": "01c4fe3e-29d1-4275-8fd6-6300fef8b049",
   "metadata": {},
   "outputs": [
    {
     "ename": "NameError",
     "evalue": "name 'trade' is not defined",
     "output_type": "error",
     "traceback": [
      "\u001b[0;31m---------------------------------------------------------------------------\u001b[0m",
      "\u001b[0;31mNameError\u001b[0m                                 Traceback (most recent call last)",
      "Input \u001b[0;32mIn [3]\u001b[0m, in \u001b[0;36m<cell line: 14>\u001b[0;34m()\u001b[0m\n\u001b[1;32m      5\u001b[0m \u001b[38;5;28;01mimport\u001b[39;00m \u001b[38;5;21;01mpyspark\u001b[39;00m\u001b[38;5;21;01m.\u001b[39;00m\u001b[38;5;21;01msql\u001b[39;00m\u001b[38;5;21;01m.\u001b[39;00m\u001b[38;5;21;01mfunctions\u001b[39;00m \u001b[38;5;28;01mas\u001b[39;00m \u001b[38;5;21;01mF\u001b[39;00m \n\u001b[1;32m      8\u001b[0m \u001b[38;5;66;03m# In the exchange dataset, you can uniquely identify a record by the combination of trade_dt,\u001b[39;00m\n\u001b[1;32m      9\u001b[0m \u001b[38;5;66;03m# symbol, exchange, event_tm, event_seq_nb. However, the exchange may correct an error in\u001b[39;00m\n\u001b[1;32m     10\u001b[0m \u001b[38;5;66;03m# any submitted record by sending a new record with the same uniqueID. Such records will come with later arrival_tm. \u001b[39;00m\n\u001b[1;32m     11\u001b[0m \n\u001b[1;32m     12\u001b[0m \u001b[38;5;66;03m# Below code uses row_number and window partition and orderby to accept records with latest arrival_tme\u001b[39;00m\n\u001b[0;32m---> 14\u001b[0m trade_corrected\u001b[38;5;241m=\u001b[39m\u001b[43mtrade\u001b[49m\u001b[38;5;241m.\u001b[39mwithColumn(\u001b[38;5;124m\"\u001b[39m\u001b[38;5;124mrow_number\u001b[39m\u001b[38;5;124m\"\u001b[39m,F\u001b[38;5;241m.\u001b[39mrow_number()\u001b[38;5;241m.\u001b[39mover(Window\u001b[38;5;241m.\u001b[39mpartitionBy(trade\u001b[38;5;241m.\u001b[39mtrade_dt,\\\n\u001b[1;32m     15\u001b[0m                    trade\u001b[38;5;241m.\u001b[39msymbol,trade\u001b[38;5;241m.\u001b[39mexchange,trade\u001b[38;5;241m.\u001b[39mevent_tm,trade\u001b[38;5;241m.\u001b[39mevent_seq_nb) \\\n\u001b[1;32m     16\u001b[0m                    \u001b[38;5;241m.\u001b[39morderBy(trade\u001b[38;5;241m.\u001b[39marrival_tm\u001b[38;5;241m.\u001b[39mdesc())))\u001b[38;5;241m.\u001b[39mfilter(F\u001b[38;5;241m.\u001b[39mcol(\u001b[38;5;124m\"\u001b[39m\u001b[38;5;124mrow_number\u001b[39m\u001b[38;5;124m\"\u001b[39m)\u001b[38;5;241m==\u001b[39m\u001b[38;5;241m1\u001b[39m)\u001b[38;5;241m.\u001b[39mdrop(\u001b[38;5;124m\"\u001b[39m\u001b[38;5;124mrow_number\u001b[39m\u001b[38;5;124m\"\u001b[39m)\n",
      "\u001b[0;31mNameError\u001b[0m: name 'trade' is not defined"
     ]
    }
   ],
   "source": [
    "# Apply Data Correction\n",
    "\n",
    "from pyspark.sql.window import Window\n",
    "from datetime import date\n",
    "import pyspark.sql.functions as F \n",
    "\n",
    "\n",
    "# Using row_number, window partition and orderby to accept records with latest arrival_tme\n",
    "\n",
    "trade_corrected=trade.withColumn(\"row_number\",F.row_number().over(Window.partitionBy(trade.trade_dt,\\\n",
    "                   trade.symbol,trade.exchange,trade.event_tm,trade.event_seq_nb) \\\n",
    "                   .orderBy(trade.arrival_tm.desc()))).filter(F.col(\"row_number\")==1).drop(\"row_number\")"
   ]
  },
  {
   "cell_type": "code",
   "execution_count": null,
   "id": "012ffe76-8364-44ee-bfc1-b5ca3fe2e3dd",
   "metadata": {},
   "outputs": [],
   "source": [
    "#Writing the Trade Dataset back to Local Storage\n",
    "\n",
    "trade_date = \"2020-08-05\"\n",
    "trade_corrected.coalesce(1).write.parquet(\"C:/Users/KEVAL/Desktop/EOD-DataLoadProject/trade/trade_dt={}\".format(trade_date))"
   ]
  },
  {
   "cell_type": "code",
   "execution_count": 4,
   "id": "5325436b-2ee7-4789-8f43-fd9ada826176",
   "metadata": {},
   "outputs": [
    {
     "ename": "NameError",
     "evalue": "name 'spark' is not defined",
     "output_type": "error",
     "traceback": [
      "\u001b[0;31m---------------------------------------------------------------------------\u001b[0m",
      "\u001b[0;31mNameError\u001b[0m                                 Traceback (most recent call last)",
      "Input \u001b[0;32mIn [4]\u001b[0m, in \u001b[0;36m<cell line: 3>\u001b[0;34m()\u001b[0m\n\u001b[1;32m      1\u001b[0m \u001b[38;5;66;03m# Reading the Quote partition dataset from its temporary location\u001b[39;00m\n\u001b[0;32m----> 3\u001b[0m quote_common \u001b[38;5;241m=\u001b[39m \u001b[43mspark\u001b[49m\u001b[38;5;241m.\u001b[39mread\u001b[38;5;241m.\u001b[39mparquet(\u001b[38;5;124m\"\u001b[39m\u001b[38;5;124m/EOD-DataLoadProject/output_dir/partition=Q/*.parquet\u001b[39m\u001b[38;5;124m\"\u001b[39m)\n",
      "\u001b[0;31mNameError\u001b[0m: name 'spark' is not defined"
     ]
    }
   ],
   "source": [
    "# Reading the Quote partition data from the temporary location\n",
    "\n",
    "quote_common = spark.read.parquet(\"C:/Users/KEVAL/Desktop/EOD-DataLoadProject/output_dir/partition=Q/*.parquet\")"
   ]
  },
  {
   "cell_type": "code",
   "execution_count": 5,
   "id": "fec86ddb-90a4-4e1f-86ef-1b2ad1e54f69",
   "metadata": {},
   "outputs": [
    {
     "ename": "NameError",
     "evalue": "name 'quote_common' is not defined",
     "output_type": "error",
     "traceback": [
      "\u001b[0;31m---------------------------------------------------------------------------\u001b[0m",
      "\u001b[0;31mNameError\u001b[0m                                 Traceback (most recent call last)",
      "Input \u001b[0;32mIn [5]\u001b[0m, in \u001b[0;36m<cell line: 3>\u001b[0;34m()\u001b[0m\n\u001b[1;32m      1\u001b[0m \u001b[38;5;66;03m# Selecting the Necessary columns for Quote Records\u001b[39;00m\n\u001b[0;32m----> 3\u001b[0m quote\u001b[38;5;241m=\u001b[39m\u001b[43mquote_common\u001b[49m\u001b[38;5;241m.\u001b[39mselect(\u001b[38;5;124m\"\u001b[39m\u001b[38;5;124mtrade_dt\u001b[39m\u001b[38;5;124m\"\u001b[39m,\u001b[38;5;124m\"\u001b[39m\u001b[38;5;124msymbol\u001b[39m\u001b[38;5;124m\"\u001b[39m,\u001b[38;5;124m\"\u001b[39m\u001b[38;5;124mexchange\u001b[39m\u001b[38;5;124m\"\u001b[39m,\u001b[38;5;124m\"\u001b[39m\u001b[38;5;124mevent_tm\u001b[39m\u001b[38;5;124m\"\u001b[39m,\u001b[38;5;124m\"\u001b[39m\u001b[38;5;124mevent_seq_nb\u001b[39m\u001b[38;5;124m\"\u001b[39m,\u001b[38;5;124m\"\u001b[39m\u001b[38;5;124marrival_tm\u001b[39m\u001b[38;5;124m\"\u001b[39m,\u001b[38;5;124m\"\u001b[39m\u001b[38;5;124mbid_pr\u001b[39m\u001b[38;5;124m\"\u001b[39m,\u001b[38;5;124m\"\u001b[39m\u001b[38;5;124mask_pr\u001b[39m\u001b[38;5;124m\"\u001b[39m)\n",
      "\u001b[0;31mNameError\u001b[0m: name 'quote_common' is not defined"
     ]
    }
   ],
   "source": [
    "# Selecting the Necessary columns for Quote Records\n",
    "\n",
    "quote=quote_common.select(\"trade_dt\",\"symbol\",\"exchange\",\"event_tm\",\"event_seq_nb\",\"arrival_tm\",\"bid_pr\",\"ask_pr\")"
   ]
  },
  {
   "cell_type": "code",
   "execution_count": 6,
   "id": "5b45dc81-12ef-40a3-8cbf-ad385dce8028",
   "metadata": {},
   "outputs": [
    {
     "ename": "NameError",
     "evalue": "name 'quote' is not defined",
     "output_type": "error",
     "traceback": [
      "\u001b[0;31m---------------------------------------------------------------------------\u001b[0m",
      "\u001b[0;31mNameError\u001b[0m                                 Traceback (most recent call last)",
      "Input \u001b[0;32mIn [6]\u001b[0m, in \u001b[0;36m<cell line: 11>\u001b[0;34m()\u001b[0m\n\u001b[1;32m      3\u001b[0m \u001b[38;5;28;01mimport\u001b[39;00m \u001b[38;5;21;01mpyspark\u001b[39;00m\u001b[38;5;21;01m.\u001b[39;00m\u001b[38;5;21;01msql\u001b[39;00m\u001b[38;5;21;01m.\u001b[39;00m\u001b[38;5;21;01mfunctions\u001b[39;00m \u001b[38;5;28;01mas\u001b[39;00m \u001b[38;5;21;01mF\u001b[39;00m \n\u001b[1;32m      5\u001b[0m \u001b[38;5;66;03m# In the exchange dataset, you can uniquely identify a record by the combination of trade_dt,\u001b[39;00m\n\u001b[1;32m      6\u001b[0m \u001b[38;5;66;03m# symbol, exchange, event_tm, event_seq_nb. However, the exchange may correct an error in\u001b[39;00m\n\u001b[1;32m      7\u001b[0m \u001b[38;5;66;03m# any submitted record by sending a new record with the same uniqueID. Such records will come with later arrival_tm. \u001b[39;00m\n\u001b[1;32m      8\u001b[0m \n\u001b[1;32m      9\u001b[0m \u001b[38;5;66;03m# Below code uses row_number and window partition and orderby to accept records with latest arrival_tme\u001b[39;00m\n\u001b[0;32m---> 11\u001b[0m quote_corrected\u001b[38;5;241m=\u001b[39m\u001b[43mquote\u001b[49m\u001b[38;5;241m.\u001b[39mwithColumn(\u001b[38;5;124m\"\u001b[39m\u001b[38;5;124mrow_number\u001b[39m\u001b[38;5;124m\"\u001b[39m,F\u001b[38;5;241m.\u001b[39mrow_number()\u001b[38;5;241m.\u001b[39mover(Window\u001b[38;5;241m.\u001b[39mpartitionBy(quote\u001b[38;5;241m.\u001b[39mtrade_dt,quote\u001b[38;5;241m.\u001b[39msymbol,\\\n\u001b[1;32m     12\u001b[0m                                             quote\u001b[38;5;241m.\u001b[39mexchange,quote\u001b[38;5;241m.\u001b[39mevent_tm,quote\u001b[38;5;241m.\u001b[39mevent_seq_nb)\u001b[38;5;241m.\u001b[39m\\\n\u001b[1;32m     13\u001b[0m                                             orderBy(quote\u001b[38;5;241m.\u001b[39marrival_tm\u001b[38;5;241m.\u001b[39mdesc())))\u001b[38;5;241m.\u001b[39mfilter(F\u001b[38;5;241m.\u001b[39mcol(\u001b[38;5;124m\"\u001b[39m\u001b[38;5;124mrow_number\u001b[39m\u001b[38;5;124m\"\u001b[39m)\u001b[38;5;241m==\u001b[39m\u001b[38;5;241m1\u001b[39m)\u001b[38;5;241m.\u001b[39mdrop(\u001b[38;5;124m\"\u001b[39m\u001b[38;5;124mrow_number\u001b[39m\u001b[38;5;124m\"\u001b[39m)\n",
      "\u001b[0;31mNameError\u001b[0m: name 'quote' is not defined"
     ]
    }
   ],
   "source": [
    "from pyspark.sql.window import Window\n",
    "from datetime import date\n",
    "import pyspark.sql.functions as F \n",
    "\n",
    "# In the exchange dataset, you can uniquely identify a record by the combination of trade_dt,\n",
    "# symbol, exchange, event_tm, event_seq_nb. However, the exchange may correct an error in\n",
    "# any submitted record by sending a new record with the same uniqueID. Such records will come with later arrival_tm. \n",
    "\n",
    "# Using row_number, window partition and orderby to accept records with latest arrival_tme\n",
    "\n",
    "quote_corrected=quote.withColumn(\"row_number\",F.row_number().over(Window.partitionBy(quote.trade_dt,quote.symbol,\\\n",
    "                                            quote.exchange,quote.event_tm,quote.event_seq_nb).\\\n",
    "                                            orderBy(quote.arrival_tm.desc()))).filter(F.col(\"row_number\")==1).drop(\"row_number\")"
   ]
  },
  {
   "cell_type": "code",
   "execution_count": 7,
   "id": "98a9e905-a3c9-4f27-aa95-7fd4a5512b2e",
   "metadata": {},
   "outputs": [
    {
     "ename": "NameError",
     "evalue": "name 'quote' is not defined",
     "output_type": "error",
     "traceback": [
      "\u001b[0;31m---------------------------------------------------------------------------\u001b[0m",
      "\u001b[0;31mNameError\u001b[0m                                 Traceback (most recent call last)",
      "Input \u001b[0;32mIn [7]\u001b[0m, in \u001b[0;36m<cell line: 4>\u001b[0;34m()\u001b[0m\n\u001b[1;32m      1\u001b[0m \u001b[38;5;66;03m#Writing back the Quote Dataset back to Azure Storage\u001b[39;00m\n\u001b[1;32m      3\u001b[0m trade_date \u001b[38;5;241m=\u001b[39m \u001b[38;5;124m\"\u001b[39m\u001b[38;5;124m2020-08-05\u001b[39m\u001b[38;5;124m\"\u001b[39m\n\u001b[0;32m----> 4\u001b[0m \u001b[43mquote\u001b[49m\u001b[38;5;241m.\u001b[39mcoalesce(\u001b[38;5;241m1\u001b[39m)\u001b[38;5;241m.\u001b[39mwrite\u001b[38;5;241m.\u001b[39mparquet(\u001b[38;5;124m\"\u001b[39m\u001b[38;5;124mEOD-DataLoadProject/quote/trade_dt=\u001b[39m\u001b[38;5;132;01m{}\u001b[39;00m\u001b[38;5;124m\"\u001b[39m\u001b[38;5;241m.\u001b[39mformat(trade_date))\n",
      "\u001b[0;31mNameError\u001b[0m: name 'quote' is not defined"
     ]
    }
   ],
   "source": [
    "#Writing back the Quote Dataset back to Local Storage\n",
    "\n",
    "trade_date = \"2020-08-05\"\n",
    "quote.coalesce(1).write.parquet(\"C:/Users/KEVAL/Desktop/EOD-DataLoadProject/quote/trade_dt={}\".format(trade_date))\n"
   ]
  }
 ],
 "metadata": {
  "kernelspec": {
   "display_name": "Python 3 (ipykernel)",
   "language": "python",
   "name": "python3"
  },
  "language_info": {
   "codemirror_mode": {
    "name": "ipython",
    "version": 3
   },
   "file_extension": ".py",
   "mimetype": "text/x-python",
   "name": "python",
   "nbconvert_exporter": "python",
   "pygments_lexer": "ipython3",
   "version": "3.9.12"
  }
 },
 "nbformat": 4,
 "nbformat_minor": 5
}
